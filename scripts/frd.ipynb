{
 "cells": [
  {
   "cell_type": "code",
   "execution_count": 1,
   "metadata": {
    "collapsed": false,
    "nbpresent": {
     "id": "0454dd5d-789a-4f28-80d4-c2187a786135"
    }
   },
   "outputs": [
    {
     "name": "stdout",
     "output_type": "stream",
     "text": [
      "Complete\n"
     ]
    }
   ],
   "source": [
    "from fiber_properties import (frd, image_list, FiberImage, save_plot,\n",
    "                              plot_frd_encircled_energy,\n",
    "                              plot_frd_encircled_energy_comparison,\n",
    "                              plot_frd_input_output,\n",
    "                              plot_frd_energy_loss)\n",
    "\n",
    "NEW_OBJECTS = False\n",
    "NEW_DATA = False\n",
    "FOCAL_RATIO_DIAMETER = 0.95\n",
    "FRD_CALIBRATION_THRESHOLD = 1500\n",
    "\n",
    "print 'Complete'\n"
   ]
  },
  {
   "cell_type": "code",
   "execution_count": 2,
   "metadata": {
    "collapsed": false,
    "nbpresent": {
     "id": "b22690cf-5fe7-4257-ac3a-28ff6d30cb50"
    }
   },
   "outputs": [
    {
     "name": "stdout",
     "output_type": "stream",
     "text": [
      "Complete\n"
     ]
    }
   ],
   "source": [
    "# Helpful function and a container class\n",
    "\n",
    "class Container(object):\n",
    "    def __init__(self, name, folder, in_f, out_f):\n",
    "        self.name = name\n",
    "        self.folder = folder\n",
    "        self.in_objs = image_objects(folder, 'input', in_f)\n",
    "        self.out_objs = image_objects(folder, 'output', out_f)\n",
    "        self.output = None\n",
    "        self.magn = None\n",
    "        self.magn_list = None\n",
    "        self.magn_error = None\n",
    "\n",
    "def ambient_files(folder):\n",
    "    return image_list(folder+'ambient/ff_', num=3)\n",
    "\n",
    "def image_file(folder, image_type='input', f=3.0):\n",
    "    return folder+image_type+'_'+str(f)+'.fit'\n",
    "\n",
    "def object_file(folder, image_type='input', f=3.0):\n",
    "    return folder+image_type+'_'+str(f)+'_obj.pkl'\n",
    "\n",
    "def image_objects(folder, image_type='input', f_list=[]):\n",
    "    if NEW_OBJECTS:\n",
    "        for f in f_list:\n",
    "            print 'Saving ' + object_file(folder, image_type, f)\n",
    "            im_obj = FiberImage(image_file(folder, image_type, f),\n",
    "                                ambient=ambient_files(folder),\n",
    "                                threshold=FRD_CALIBRATION_THRESHOLD,\n",
    "                                camera='ff')\n",
    "            setattr(im_obj._frd_info, image_type+'_fnum', f)\n",
    "            im_obj.save_object(object_file(folder, image_type, f))\n",
    "    return [object_file(folder, image_type, f) for f in f_list]\n",
    "\n",
    "print 'Complete'\n"
   ]
  },
  {
   "cell_type": "code",
   "execution_count": 3,
   "metadata": {
    "collapsed": false
   },
   "outputs": [
    {
     "name": "stdout",
     "output_type": "stream",
     "text": [
      "Calculating FRD for Fiber Mirror Octagonal Fiber\n",
      "../data/EXPRES/fiber_mirror_oct/frd/output_3.0_obj.pkl\n",
      "../data/EXPRES/fiber_mirror_oct/frd/output_4.0_obj.pkl\n",
      "../data/EXPRES/fiber_mirror_oct/frd/output_5.0_obj.pkl\n",
      "../data/EXPRES/fiber_mirror_oct/frd/input_2.5_obj.pkl\n",
      "../data/EXPRES/fiber_mirror_oct/frd/input_3.0_obj.pkl\n",
      "../data/EXPRES/fiber_mirror_oct/frd/input_3.5_obj.pkl\n",
      "../data/EXPRES/fiber_mirror_oct/frd/input_4.0_obj.pkl\n",
      "../data/EXPRES/fiber_mirror_oct/frd/input_4.5_obj.pkl\n",
      "../data/EXPRES/fiber_mirror_oct/frd/input_5.0_obj.pkl\n",
      "Complete\n"
     ]
    }
   ],
   "source": [
    "# Populate the data\n",
    "\n",
    "in_f = [2.5, 3.0, 3.5, 4.0, 4.5, 5.0]\n",
    "out_f = [3.0, 4.0, 5.0]\n",
    "\n",
    "TITLE = 'Fiber Mirror Octagonal'\n",
    "FOLDER = '../data/EXPRES/fiber_mirror_oct/frd/'\n",
    "TESTS = [Container(TITLE, FOLDER, in_f, out_f)]\n",
    "\n",
    "for test in TESTS:\n",
    "    print 'Calculating FRD for '+ test.name + ' Fiber'\n",
    "    output = frd(test.in_objs, test.out_objs,\n",
    "                 cal_method='full', save_objs=True,\n",
    "                 fnum_diameter=FOCAL_RATIO_DIAMETER, new=NEW_DATA)\n",
    "    test.output = output[0]\n",
    "    test.magn = output[1]\n",
    "    test.magn_list = output[2]\n",
    "    test.magn_error = output[3]\n",
    "    \n",
    "    plot_frd_encircled_energy(output)\n",
    "    save_plot(test.folder + test.name + ' FRD.png')\n",
    "\n",
    "frd_outputs = [(test.output, test.magn, test.magn_list, test.magn_error) for test in TESTS]\n",
    "labels = [test.name for test in TESTS]\n",
    "\n",
    "print 'Complete'\n"
   ]
  },
  {
   "cell_type": "code",
   "execution_count": 4,
   "metadata": {
    "collapsed": false
   },
   "outputs": [
    {
     "name": "stdout",
     "output_type": "stream",
     "text": [
      "Complete\n"
     ]
    }
   ],
   "source": [
    "plot_frd_energy_loss(frd_outputs, labels)\n",
    "save_plot(FOLDER + 'Energy Loss.png')\n",
    "\n",
    "plot_frd_input_output(frd_outputs, labels)\n",
    "save_plot(FOLDER + 'Input vs Output.png')\n",
    "\n",
    "plot_frd_encircled_energy_comparison(frd_outputs, labels)\n",
    "save_plot(FOLDER + 'Encircled Energy Comparison.png')\n",
    "\n",
    "print 'Complete'\n"
   ]
  },
  {
   "cell_type": "code",
   "execution_count": 5,
   "metadata": {
    "collapsed": false
   },
   "outputs": [],
   "source": [
    "\n",
    "def plot_frd_encircled_energy(frd_output):\n",
    "    frd_info = frd_output[0]\n",
    "    magn = frd_output[1]\n",
    "    magn_list = frd_output[2]\n",
    "    magn_error = frd_output[3]\n",
    "\n",
    "    plt.figure()\n",
    "    for i, f in enumerate(frd_info.input_fnum):\n",
    "        plt.plot(frd_info.encircled_energy_fnum[i],\n",
    "                 frd_info.encircled_energy[i],\n",
    "                 label=str(f),\n",
    "                 linewidth=2)\n",
    "    plt.xlabel('output f-ratio')\n",
    "    plt.ylabel('encircled energy')\n",
    "    plt.ylim(ymax=1)\n",
    "    plt.grid()\n",
    "    plt.legend(loc=3, title='input f-ratio')\n",
    "\n",
    "def plot_frd_energy_loss(frd_outputs, labels):\n",
    "    plt.figure()\n",
    "\n",
    "    for i, output in enumerate(frd_outputs):\n",
    "        frd_info = output[0]\n",
    "        magn = output[1]\n",
    "        magn_list = output[2]\n",
    "        magn_error = output[3]\n",
    "\n",
    "        plt.errorbar(frd_info.input_fnum,\n",
    "                     frd_info.energy_loss,\n",
    "                     xerr=magn_error*np.array(frd_info.input_fnum),\n",
    "                     label=labels[i],\n",
    "                     linewidth=2)\n",
    "    plt.xlabel('input f-ratio')\n",
    "    plt.ylabel('energy loss (\\%)')\n",
    "    plt.grid()\n",
    "    plt.legend(loc=2)\n",
    "\n",
    "def plot_frd_input_output(frd_outputs, labels, ideal=True):\n",
    "    plt.figure()\n",
    "\n",
    "    for i, output in enumerate(frd_outputs):\n",
    "        frd_info = output[0]\n",
    "        magn = output[1]\n",
    "        magn_list = output[2]\n",
    "        magn_error = output[3]\n",
    "\n",
    "        plt.errorbar(frd_info.input_fnum,\n",
    "                     frd_info.output_fnum,\n",
    "                     xerr=magn_error*np.array(frd_info.input_fnum),\n",
    "                     yerr=magn_error*np.array(frd_info.input_fnum),\n",
    "                     label=labels[i],\n",
    "                     linewidth=2)\n",
    "\n",
    "    if ideal:\n",
    "        plt.plot(frd_info.input_fnum, frd_info.input_fnum,\n",
    "                 label='Ideal', linestyle='--', color='black')\n",
    "    plt.xlabel('input f-ratio')\n",
    "    plt.ylabel('output f-ratio')\n",
    "    plt.grid()\n",
    "    plt.legend(loc=2)\n",
    "\n",
    "def plot_frd_encircled_energy_comparison(frd_outputs, labels):\n",
    "    plt.figure(figsize=[18,18])\n",
    "\n",
    "    for i, output in enumerate(frd_outputs):\n",
    "        frd_info = output[0]\n",
    "        magn = output[1]\n",
    "        magn_list = output[2]\n",
    "        magn_error = output[3]\n",
    "\n",
    "        for j, f in enumerate([2.5, 3.0, 3.5, 4.0, 4.5, 5.0]):\n",
    "            if f in frd_info.input_fnum:\n",
    "                plt.subplot(3, 2, j+1)\n",
    "                index = frd_info.input_fnum.index(f)\n",
    "                plt.plot(frd_info.encircled_energy_fnum[index],\n",
    "                         frd_info.encircled_energy[index],\n",
    "                         label=labels[i],\n",
    "                         linewidth=2)\n",
    "                plt.xlabel('output f-ratio')\n",
    "                plt.ylabel('encircled energy')\n",
    "                plt.ylim(ymax=1)\n",
    "                plt.grid()\n",
    "                plt.legend(title='input f/' + str(f), loc=3)"
   ]
  },
  {
   "cell_type": "code",
   "execution_count": 12,
   "metadata": {
    "collapsed": false
   },
   "outputs": [
    {
     "name": "stdout",
     "output_type": "stream",
     "text": [
      "0.981604141643\n",
      "[2.2999999999999998, 2.3999999999999999, 2.5, 2.6000000000000001, 2.7000000000000002, 2.8000000000000003, 2.9000000000000004, 3.0000000000000004, 3.1000000000000005, 3.2000000000000006, 3.3000000000000007, 3.4000000000000008, 3.5000000000000009, 3.600000000000001, 3.7000000000000011, 3.8000000000000012, 3.9000000000000012, 4.0000000000000018, 4.1000000000000014, 4.2000000000000011, 4.3000000000000016, 4.4000000000000021, 4.5000000000000018, 4.6000000000000014, 4.700000000000002, 4.8000000000000025, 4.9000000000000021, 5.0000000000000018, 5.1000000000000023, 5.2000000000000028, 5.3000000000000025, 5.4000000000000021, 5.5000000000000027, 5.6000000000000032, 5.7000000000000028, 5.8000000000000025, 5.900000000000003, 6.0000000000000036]\n"
     ]
    }
   ],
   "source": [
    "test = TESTS[0]\n",
    "print test.output.encircled_energy[2][7]\n",
    "print test.output.encircled_energy_fnum[2]"
   ]
  },
  {
   "cell_type": "code",
   "execution_count": null,
   "metadata": {
    "collapsed": true
   },
   "outputs": [],
   "source": []
  }
 ],
 "metadata": {
  "anaconda-cloud": {},
  "kernelspec": {
   "display_name": "Python [Root]",
   "language": "python",
   "name": "Python [Root]"
  },
  "language_info": {
   "codemirror_mode": {
    "name": "ipython",
    "version": 2
   },
   "file_extension": ".py",
   "mimetype": "text/x-python",
   "name": "python",
   "nbconvert_exporter": "python",
   "pygments_lexer": "ipython2",
   "version": "2.7.12"
  },
  "nbpresent": {
   "slides": {},
   "themes": {
    "default": "f1664eae-3813-47a9-8c96-f0beba4afee8",
    "theme": {
     "7e56527a-4a3a-4bb0-8757-688c46d886b4": {
      "backgrounds": {
       "dc7afa04-bf90-40b1-82a5-726e3cff5267": {
        "background-color": "31af15d2-7e15-44c5-ab5e-e04b16a89eff",
        "id": "dc7afa04-bf90-40b1-82a5-726e3cff5267"
       }
      },
      "id": "7e56527a-4a3a-4bb0-8757-688c46d886b4",
      "palette": {
       "19cc588f-0593-49c9-9f4b-e4d7cc113b1c": {
        "id": "19cc588f-0593-49c9-9f4b-e4d7cc113b1c",
        "rgb": [
         252,
         252,
         252
        ]
       },
       "31af15d2-7e15-44c5-ab5e-e04b16a89eff": {
        "id": "31af15d2-7e15-44c5-ab5e-e04b16a89eff",
        "rgb": [
         68,
         68,
         68
        ]
       },
       "50f92c45-a630-455b-aec3-788680ec7410": {
        "id": "50f92c45-a630-455b-aec3-788680ec7410",
        "rgb": [
         197,
         226,
         245
        ]
       },
       "c5cc3653-2ee1-402a-aba2-7caae1da4f6c": {
        "id": "c5cc3653-2ee1-402a-aba2-7caae1da4f6c",
        "rgb": [
         43,
         126,
         184
        ]
       },
       "efa7f048-9acb-414c-8b04-a26811511a21": {
        "id": "efa7f048-9acb-414c-8b04-a26811511a21",
        "rgb": [
         25.118061674008803,
         73.60176211453744,
         107.4819383259912
        ]
       }
      },
      "rules": {
       "a": {
        "color": "19cc588f-0593-49c9-9f4b-e4d7cc113b1c"
       },
       "blockquote": {
        "color": "50f92c45-a630-455b-aec3-788680ec7410",
        "font-size": 3
       },
       "code": {
        "font-family": "Anonymous Pro"
       },
       "h1": {
        "color": "19cc588f-0593-49c9-9f4b-e4d7cc113b1c",
        "font-family": "Merriweather",
        "font-size": 8
       },
       "h2": {
        "color": "19cc588f-0593-49c9-9f4b-e4d7cc113b1c",
        "font-family": "Merriweather",
        "font-size": 6
       },
       "h3": {
        "color": "50f92c45-a630-455b-aec3-788680ec7410",
        "font-family": "Lato",
        "font-size": 5.5
       },
       "h4": {
        "color": "c5cc3653-2ee1-402a-aba2-7caae1da4f6c",
        "font-family": "Lato",
        "font-size": 5
       },
       "h5": {
        "font-family": "Lato"
       },
       "h6": {
        "font-family": "Lato"
       },
       "h7": {
        "font-family": "Lato"
       },
       "li": {
        "color": "50f92c45-a630-455b-aec3-788680ec7410",
        "font-size": 3.25
       },
       "pre": {
        "font-family": "Anonymous Pro",
        "font-size": 4
       }
      },
      "text-base": {
       "color": "19cc588f-0593-49c9-9f4b-e4d7cc113b1c",
       "font-family": "Lato",
       "font-size": 4
      }
     },
     "f1664eae-3813-47a9-8c96-f0beba4afee8": {
      "id": "f1664eae-3813-47a9-8c96-f0beba4afee8",
      "palette": {
       "19cc588f-0593-49c9-9f4b-e4d7cc113b1c": {
        "id": "19cc588f-0593-49c9-9f4b-e4d7cc113b1c",
        "rgb": [
         252,
         252,
         252
        ]
       },
       "31af15d2-7e15-44c5-ab5e-e04b16a89eff": {
        "id": "31af15d2-7e15-44c5-ab5e-e04b16a89eff",
        "rgb": [
         68,
         68,
         68
        ]
       },
       "50f92c45-a630-455b-aec3-788680ec7410": {
        "id": "50f92c45-a630-455b-aec3-788680ec7410",
        "rgb": [
         155,
         177,
         192
        ]
       },
       "c5cc3653-2ee1-402a-aba2-7caae1da4f6c": {
        "id": "c5cc3653-2ee1-402a-aba2-7caae1da4f6c",
        "rgb": [
         43,
         126,
         184
        ]
       },
       "efa7f048-9acb-414c-8b04-a26811511a21": {
        "id": "efa7f048-9acb-414c-8b04-a26811511a21",
        "rgb": [
         25.118061674008803,
         73.60176211453744,
         107.4819383259912
        ]
       }
      },
      "rules": {
       "blockquote": {
        "color": "50f92c45-a630-455b-aec3-788680ec7410"
       },
       "code": {
        "font-family": "Anonymous Pro"
       },
       "h1": {
        "color": "c5cc3653-2ee1-402a-aba2-7caae1da4f6c",
        "font-family": "Lato",
        "font-size": 8
       },
       "h2": {
        "color": "c5cc3653-2ee1-402a-aba2-7caae1da4f6c",
        "font-family": "Lato",
        "font-size": 6
       },
       "h3": {
        "color": "50f92c45-a630-455b-aec3-788680ec7410",
        "font-family": "Lato",
        "font-size": 5.5
       },
       "h4": {
        "color": "c5cc3653-2ee1-402a-aba2-7caae1da4f6c",
        "font-family": "Lato",
        "font-size": 5
       },
       "h5": {
        "font-family": "Lato"
       },
       "h6": {
        "font-family": "Lato"
       },
       "h7": {
        "font-family": "Lato"
       },
       "pre": {
        "font-family": "Anonymous Pro",
        "font-size": 4
       }
      },
      "text-base": {
       "font-family": "Merriweather",
       "font-size": 4
      }
     }
    }
   }
  }
 },
 "nbformat": 4,
 "nbformat_minor": 2
}
